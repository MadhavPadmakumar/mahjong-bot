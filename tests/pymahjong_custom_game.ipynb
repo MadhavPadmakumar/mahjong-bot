{
 "cells": [
  {
   "cell_type": "code",
   "execution_count": 1,
   "id": "39500929",
   "metadata": {},
   "outputs": [],
   "source": [
    "import pymahjong\n",
    "import numpy as np"
   ]
  },
  {
   "cell_type": "code",
   "execution_count": 15,
   "id": "f07dae09",
   "metadata": {},
   "outputs": [],
   "source": [
    "# Creates a pymahjong game with 3 random-acting agents and one controllable agent.\n",
    "env = pymahjong.SingleAgentMahjongEnv(opponent_agent=\"random\")\n",
    "\n",
    "# Retrieves the observatoin at game start.\n",
    "obs = env.reset()\n",
    "\n",
    "# obs.shape == (93, 34)\n",
    "# There are 93 boolean values about each of the 34 possible tiles in the game"
   ]
  },
  {
   "cell_type": "code",
   "execution_count": 10,
   "id": "8782abc6",
   "metadata": {},
   "outputs": [
    {
     "data": {
      "text/plain": [
       "array([ 0,  3,  6, 10, 11, 13, 14, 16, 20, 21, 24, 32])"
      ]
     },
     "execution_count": 10,
     "metadata": {},
     "output_type": "execute_result"
    }
   ],
   "source": [
    "# Possible action indices the player can take\n",
    "env.get_valid_actions()"
   ]
  },
  {
   "cell_type": "code",
   "execution_count": null,
   "id": "5a6609b8",
   "metadata": {},
   "outputs": [],
   "source": []
  }
 ],
 "metadata": {
  "kernelspec": {
   "display_name": "venv",
   "language": "python",
   "name": "python3"
  },
  "language_info": {
   "codemirror_mode": {
    "name": "ipython",
    "version": 3
   },
   "file_extension": ".py",
   "mimetype": "text/x-python",
   "name": "python",
   "nbconvert_exporter": "python",
   "pygments_lexer": "ipython3",
   "version": "3.12.3"
  }
 },
 "nbformat": 4,
 "nbformat_minor": 5
}
